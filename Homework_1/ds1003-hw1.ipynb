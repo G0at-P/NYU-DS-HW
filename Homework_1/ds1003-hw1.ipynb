{
 "cells": [
  {
   "cell_type": "code",
   "execution_count": 199,
   "metadata": {},
   "outputs": [],
   "source": [
    "import pandas as pd\n",
    "import numpy as np\n",
    "org_dataset=pd.read_csv(\"hw1-data.csv\")\n",
    "y=org_dataset[\"y\"].values\n",
    "dataset=org_dataset.iloc[:,0:org_dataset.shape[1]-1].values"
   ]
  },
  {
   "cell_type": "code",
   "execution_count": 200,
   "metadata": {},
   "outputs": [],
   "source": [
    "def feature_normalization(train, test):\n",
    "    \"\"\"Rescale the data so that each feature in the training set is in\n",
    "    the interval [0,1], and apply the same transformations to the test\n",
    "    set, using the statistics computed on the training set.\n",
    "\n",
    "    Args:\n",
    "        train - training set, a 2D numpy array of size (num_instances, num_features)\n",
    "        test  - test set, a 2D numpy array of size (num_instances, num_features)\n",
    "    Returns:\n",
    "        train_normalized - training set after normalization\n",
    "        test_normalized  - test set after normalization\n",
    "\n",
    "    \"\"\"\n",
    "    \n",
    "    feature_max=np.amax(train,axis=0)\n",
    "    feature_min=np.amin(train,axis=0)\n",
    "    diff=feature_max-feature_min\n",
    "    index=np.where(diff==0)\n",
    "    train_new=np.delete(train,index,axis=1)\n",
    "    test_new=np.delete(test,index,axis=1)\n",
    "    feature_max_new=np.amax(train_new,axis=0)\n",
    "    feature_min_new=np.amin(train_new,axis=0)\n",
    "    train_normalized=(train_new-feature_min_new)/(feature_max_new-feature_min_new)\n",
    "    test_normalized=(test_new-feature_min_new)/(feature_max_new-feature_min_new)\n",
    "    \n",
    " \n",
    "    return train_normalized,test_normalized"
   ]
  },
  {
   "cell_type": "code",
   "execution_count": 201,
   "metadata": {},
   "outputs": [
    {
     "name": "stdout",
     "output_type": "stream",
     "text": [
      "39\n",
      "39\n"
     ]
    }
   ],
   "source": [
    "X_train=dataset[:100]\n",
    "X_test=dataset[100:]\n",
    "train_normalized=feature_normalization(X_train,X_test)[0]\n",
    "print(train_normalized.shape[1])\n",
    "test_normalized=feature_normalization(X_train,X_test)[1]\n",
    "print(test_normalized.shape[1])"
   ]
  },
  {
   "cell_type": "code",
   "execution_count": 202,
   "metadata": {},
   "outputs": [],
   "source": [
    "y_train=y[:100]\n",
    "y_test=y[100:]"
   ]
  },
  {
   "cell_type": "code",
   "execution_count": 32,
   "metadata": {},
   "outputs": [],
   "source": [
    "def compute_square_loss(X, y, theta):\n",
    "    \"\"\"\n",
    "    Given a set of X, y, theta, compute the square loss for predicting y with X*theta\n",
    "    \n",
    "    Args:\n",
    "        X - the feature vector, 2D numpy array of size (num_instances, num_features)\n",
    "        y - the label vector, 1D numpy array of size (num_instances)\n",
    "        theta - the parameter vector, 1D array of size (num_features)\n",
    "    \n",
    "    Returns:\n",
    "        loss - the square loss, scalar\n",
    "    \"\"\"\n",
    "    loss = 0 #initialize the square_loss\n",
    "    num_obs=X.shape[0]\n",
    "    pred=np.dot(X,theta)\n",
    "    bias=pred-y\n",
    "    loss=np.dot(bias,bias)/num_obs \n",
    "    return loss\n",
    "    "
   ]
  },
  {
   "cell_type": "code",
   "execution_count": 33,
   "metadata": {},
   "outputs": [],
   "source": [
    "def compute_square_loss_gradient(X, y, theta):\n",
    "    pred=np.dot(X,theta)\n",
    "    num_obs=X.shape[0]\n",
    "    trans_X=X.T\n",
    "    bias=pred-y\n",
    "    grad=(2.0/num_obs)*np.dot(trans_X,bias)\n",
    "    \n",
    "    return grad"
   ]
  },
  {
   "cell_type": "code",
   "execution_count": 34,
   "metadata": {},
   "outputs": [
    {
     "name": "stdout",
     "output_type": "stream",
     "text": [
      "5.633551622621556\n",
      "43\n"
     ]
    }
   ],
   "source": [
    "print(compute_square_loss(train_normalized,y_train, theta=np.zeros(train_normalized.shape[1])))\n",
    "print(len(compute_square_loss_gradient(train_normalized,y_train, theta=np.zeros(train_normalized.shape[1]))))"
   ]
  },
  {
   "cell_type": "code",
   "execution_count": 99,
   "metadata": {},
   "outputs": [],
   "source": [
    "\n",
    "def batch_grad_descent(X, y, alpha=0.1, num_iter=1000, check_gradient=False):\n",
    "    \"\"\"\n",
    "    In this question you will implement batch gradient descent to\n",
    "    minimize the square loss objective\n",
    "    \n",
    "    Args:\n",
    "        X - the feature vector, 2D numpy array of size (num_instances, num_features)\n",
    "        y - the label vector, 1D numpy array of size (num_instances)\n",
    "        alpha - step size in gradient descent\n",
    "        num_iter - number of iterations to run \n",
    "        check_gradient - a boolean value indicating whether checking the gradient when updating\n",
    "        \n",
    "    Returns:\n",
    "        theta_hist - store the the history of parameter vector in iteration, 2D numpy array of size (num_iter+1, num_features) \n",
    "                    for instance, theta in iteration 0 should be theta_hist[0], theta in ieration (num_iter) is theta_hist[-1]\n",
    "        loss_hist - the history of objective function vector, 1D numpy array of size (num_iter+1) \n",
    "    \"\"\"\n",
    "    num_instances, num_features = X.shape[0], X.shape[1]\n",
    "    theta_hist = np.zeros((num_iter+1, num_features))  #Initialize theta_hist\n",
    "    loss_hist = np.zeros(num_iter+1) #initialize loss_hist\n",
    "    theta = np.ones(num_features) #initialize theta\n",
    "    #TODO\n",
    "    for i in range(num_iter+1):\n",
    "        theta_hist[i]=theta\n",
    "        loss_hist[i]=compute_square_loss(X,y,theta_hist[i])   \n",
    "        theta=theta_hist[i]-alpha*compute_square_loss_gradient(X,y,theta_hist[i])\n",
    "    \n",
    "    return theta_hist, loss_hist\n",
    "    \n",
    "    \n",
    "\n",
    "####################################\n",
    "###Q2.4b: Implement backtracking line search in batch_gradient_descent\n",
    "###Check http://en.wikipedia.org/wiki/Backtracking_line_search for details\n",
    "#TODO\n",
    "\n"
   ]
  },
  {
   "cell_type": "code",
   "execution_count": 122,
   "metadata": {},
   "outputs": [
    {
     "data": {
      "image/png": "[encoded data removed]",
      "text/plain": [
       "<Figure size 432x288 with 1 Axes>"
      ]
     },
     "metadata": {
      "needs_background": "light"
     },
     "output_type": "display_data"
    }
   ],
   "source": [
    "import matplotlib.pyplot as plt\n",
    "step_size=[0.01,0.05,0.1,0.5]\n",
    "loss_history=[]\n",
    "for i in step_size:\n",
    "    loss_history.append(batch_grad_descent(train_normalized,y_train,alpha=i,num_iter=1000,check_gradient=False)[1])\n",
    "plt.plot(range(1001),loss_history[0],'b-',label=step_size[0])\n",
    "plt.plot(range(1001),loss_history[1],'r-',label=step_size[1])\n",
    "plt.legend(loc='best')\n",
    "plt.show()"
   ]
  },
  {
   "cell_type": "code",
   "execution_count": 123,
   "metadata": {},
   "outputs": [
    {
     "data": {
      "image/png": "[encoded data removed]",
      "text/plain": [
       "<Figure size 432x288 with 1 Axes>"
      ]
     },
     "metadata": {
      "needs_background": "light"
     },
     "output_type": "display_data"
    }
   ],
   "source": [
    "plt.plot(range(1001),loss_history[2],'g-',label=step_size[2])\n",
    "plt.plot(range(1001),loss_history[3],'y-',label=step_size[3])\n",
    "plt.legend(loc='best')\n",
    "plt.show()"
   ]
  },
  {
   "cell_type": "code",
   "execution_count": 125,
   "metadata": {},
   "outputs": [],
   "source": [
    "### Compute the gradient of Regularized Batch Gradient Descent\n",
    "def compute_regularized_square_loss(X, y, theta, lambda_reg):\n",
    "    \"\"\"\n",
    "    Compute the gradient of L2-regularized square loss function given X, y and theta\n",
    "    \n",
    "    Args:\n",
    "        X - the feature vector, 2D numpy array of size (num_instances, num_features)\n",
    "        y - the label vector, 1D numpy array of size (num_instances)\n",
    "        theta - the parameter vector, 1D numpy array of size (num_features)\n",
    "        lambda_reg - the regularization coefficient\n",
    "    \n",
    "    Returns:\n",
    "        grad - gradient vector, 1D numpy array of size (num_features)\n",
    "    \"\"\"\n",
    "    loss = 0 #initialize the square_loss\n",
    "    num_obs=X.shape[0]\n",
    "    pred=np.dot(X,theta)\n",
    "    bias=pred-y\n",
    "    loss=np.dot(bias,bias)/num_obs+lambda_reg*np.dot(theta,theta)\n",
    "    return loss\n",
    "    \n",
    "\n",
    "\n",
    "\n",
    "\n"
   ]
  },
  {
   "cell_type": "code",
   "execution_count": 126,
   "metadata": {},
   "outputs": [],
   "source": [
    "def compute_regularized_square_loss_gradient(X, y, theta, lambda_reg):\n",
    "    \"\"\"\n",
    "    Compute the gradient of L2-regularized square loss function given X, y and theta\n",
    "    \n",
    "    Args:\n",
    "        X - the feature vector, 2D numpy array of size (num_instances, num_features)\n",
    "        y - the label vector, 1D numpy array of size (num_instances)\n",
    "        theta - the parameter vector, 1D numpy array of size (num_features)\n",
    "        lambda_reg - the regularization coefficient\n",
    "    \n",
    "    Returns:\n",
    "        grad - gradient vector, 1D numpy array of size (num_features)\n",
    "    \"\"\"\n",
    "    pred=np.dot(X,theta)\n",
    "    num_obs=X.shape[0]\n",
    "    trans_X=X.T\n",
    "    bias=pred-y\n",
    "    grad=(2.0/num_obs)*np.dot(trans_X,bias)+2.0*lambda_reg*theta\n",
    "    return grad\n",
    "    "
   ]
  },
  {
   "cell_type": "code",
   "execution_count": 149,
   "metadata": {},
   "outputs": [],
   "source": [
    "def regularized_grad_descent(X, y, alpha=0.01, lambda_reg=1, num_iter=1000):\n",
    "    \"\"\"\n",
    "    Args:\n",
    "        X - the feature vector, 2D numpy array of size (num_instances, num_features)\n",
    "        y - the label vector, 1D numpy array of size (num_instances)\n",
    "        alpha - step size in gradient descent\n",
    "        lambda_reg - the regularization coefficient\n",
    "        numIter - number of iterations to run \n",
    "        \n",
    "    Returns:\n",
    "        theta_hist - the history of parameter vector, 2D numpy array of size (num_iter+1, num_features) \n",
    "        loss_hist - the history of regularized loss value, 1D numpy array\n",
    "    \"\"\"\n",
    "    (num_instances, num_features) = X.shape\n",
    "    theta = np.ones(num_features) #Initialize theta\n",
    "    theta_hist = np.zeros((num_iter+1, num_features))  #Initialize theta_hist\n",
    "    loss_hist = np.zeros(num_iter+1) #Initialize loss_hist\n",
    "    #TODO\n",
    "    \n",
    "#############################################\n",
    "## Visualization of Regularized Batch Gradient Descent\n",
    "##X-axis: log(lambda_reg)\n",
    "##Y-axis: square_loss\n",
    "    for i in range(num_iter+1):\n",
    "        theta_hist[i]=theta\n",
    "        loss_hist[i]=compute_regularized_square_loss(X, y, theta, lambda_reg)   \n",
    "        theta=theta_hist[i]-alpha*compute_regularized_square_loss_gradient(X, y, theta, lambda_reg)\n",
    "    \n",
    "    return theta_hist, loss_hist\n",
    "\n",
    "\n",
    "\n",
    "\n",
    "\n"
   ]
  },
  {
   "cell_type": "code",
   "execution_count": 179,
   "metadata": {},
   "outputs": [
    {
     "data": {
      "image/png": "[encoded data removed]",
      "text/plain": [
       "<Figure size 432x288 with 1 Axes>"
      ]
     },
     "metadata": {
      "needs_background": "light"
     },
     "output_type": "display_data"
    }
   ],
   "source": [
    "lambda_set=[10**i for i in range(-7,3,2)]\n",
    "test_loss=[]\n",
    "train_loss=[]\n",
    "for i in lambda_set:\n",
    "    test_loss.append(regularized_grad_descent(test_normalized, y_test, alpha=0.01, lambda_reg=i, num_iter=1000)[1])\n",
    "    train_loss.append(regularized_grad_descent(train_normalized, y_train, alpha=0.01, lambda_reg=i, num_iter=1000)[1])\n",
    "    \n",
    "color_set=['b-','r-','y-','g-','m-']\n",
    "for i in range(5):\n",
    "    plt.plot(range(1001),np.log(test_loss[i]),color_set[i],label=lambda_set[i])\n",
    "    plt.legend(loc='best')\n",
    "    \n",
    "\n",
    "plt.ylabel('log(square loss)')\n",
    "plt.xlabel('Number of iterations')  \n",
    "plt.title(\"Iterations Vs Log(loss) Plot\")\n",
    "plt.show()    \n"
   ]
  },
  {
   "cell_type": "code",
   "execution_count": 180,
   "metadata": {},
   "outputs": [
    {
     "data": {
      "image/png": "[encoded data removed]",
      "text/plain": [
       "<Figure size 432x288 with 1 Axes>"
      ]
     },
     "metadata": {
      "needs_background": "light"
     },
     "output_type": "display_data"
    }
   ],
   "source": [
    "lambda_set=[10**i for i in range(-7,3,2)]\n",
    "test_loss=[]\n",
    "train_loss=[]\n",
    "for i in lambda_set:\n",
    "    test_loss.append(regularized_grad_descent(test_normalized, y_test, alpha=0.01, lambda_reg=i, num_iter=1000)[1])\n",
    "    train_loss.append(regularized_grad_descent(train_normalized, y_train, alpha=0.01, lambda_reg=i, num_iter=1000)[1])\n",
    "    \n",
    "color_set=['b-','r-','y-','g-','m-']\n",
    "for i in range(5):\n",
    "    plt.plot(range(1001),np.log(train_loss[i]),color_set[i],label=lambda_set[i])\n",
    "    plt.legend(loc='best')\n",
    "    \n",
    "\n",
    "plt.ylabel('log(square loss)')\n",
    "plt.xlabel('Number of iterations')  \n",
    "plt.title(\"Iterations Vs Log(loss) Plot\")\n",
    "plt.show()    "
   ]
  },
  {
   "cell_type": "code",
   "execution_count": 76,
   "metadata": {},
   "outputs": [],
   "source": [
    "def stochastic_compute_regularized_square_loss(X, y, theta, lambda_reg):\n",
    "    \"\"\"\n",
    "    Compute the gradient of L2-regularized square loss function given X, y and theta\n",
    "    \n",
    "    Args:\n",
    "        X - the feature vector, 2D numpy array of size (num_instances, num_features)\n",
    "        y - the label vector, 1D numpy array of size (num_instances)\n",
    "        theta - the parameter vector, 1D numpy array of size (num_features)\n",
    "        lambda_reg - the regularization coefficient\n",
    "    \n",
    "    Returns:\n",
    "        grad - gradient vector, 1D numpy array of size (num_features)\n",
    "    \"\"\"\n",
    "    loss = 0 #initialize the square_loss\n",
    "    num_obs=X.shape[0]\n",
    "    pred=np.dot(X,theta)\n",
    "    bias=pred-y\n",
    "    loss=np.dot(bias,bias)+lambda_reg*np.dot(theta,theta)\n",
    "    return loss\n",
    "    "
   ]
  },
  {
   "cell_type": "code",
   "execution_count": 77,
   "metadata": {},
   "outputs": [],
   "source": [
    "def stochastic_compute_regularized_square_loss_gradient(X, y, theta, lambda_reg):\n",
    "    \"\"\"\n",
    "    Compute the gradient of L2-regularized square loss function given X, y and theta\n",
    "    \n",
    "    Args:\n",
    "        X - the feature vector, 2D numpy array of size (num_instances, num_features)\n",
    "        y - the label vector, 1D numpy array of size (num_instances)\n",
    "        theta - the parameter vector, 1D numpy array of size (num_features)\n",
    "        lambda_reg - the regularization coefficient\n",
    "    \n",
    "    Returns:\n",
    "        grad - gradient vector, 1D numpy array of size (num_features)\n",
    "    \"\"\"\n",
    "    pred=np.dot(X,theta)\n",
    "    num_obs=X.shape[0]\n",
    "    trans_X=X.T\n",
    "    bias=pred-y\n",
    "    grad=2.0*np.dot(trans_X,bias)+2.0*lambda_reg*theta\n",
    "    return grad"
   ]
  },
  {
   "cell_type": "code",
   "execution_count": 206,
   "metadata": {},
   "outputs": [],
   "source": [
    "### Stochastic Gradient Descent\n",
    "def stochastic_grad_descent(X, y, alpha=0.005, lambda_reg=10**-2, num_iter=1000,c=0.1):\n",
    "    \"\"\"\n",
    "    In this question you will implement stochastic gradient descent with a regularization term\n",
    "    \n",
    "    Args:\n",
    "        X - the feature vector, 2D numpy array of size (num_instances, num_features)\n",
    "        y - the label vector, 1D numpy array of size (num_instances)\n",
    "        alpha - string or float. step size in gradient descent\n",
    "                NOTE: In SGD, it's not always a good idea to use a fixed step size. Usually it's set to 1/sqrt(t) or 1/t\n",
    "                if alpha is a float, then the step size in every iteration is alpha.\n",
    "                if alpha == \"1/sqrt(t)\", alpha = 1/sqrt(t)\n",
    "                if alpha == \"1/t\", alpha = 1/t\n",
    "        lambda_reg - the regularization coefficient\n",
    "        num_iter - number of epochs (i.e number of times) to go through the whole training set\n",
    "    \n",
    "    Returns:\n",
    "        theta_hist - the history of parameter vector, 3D numpy array of size (num_iter, num_instances, num_features) \n",
    "        loss hist - the history of regularized loss function vector, 2D numpy array of size(num_iter, num_instances)\n",
    "    \"\"\"\n",
    "    num_instances, num_features = X.shape[0], X.shape[1]\n",
    "    theta = np.ones(num_features) #Initialize theta\n",
    "    \n",
    "    \n",
    "    theta_hist = np.zeros((num_iter, num_instances, num_features))  #Initialize theta_hist\n",
    "    loss_hist = np.zeros((num_iter, num_instances)) #Initialize loss_hist\n",
    "    \n",
    "    s=np.arange(num_instances)\n",
    "    np.random.shuffle(s)\n",
    "    X=X[s]\n",
    "    y=y[s]\n",
    "    for i in range(num_iter):\n",
    "        for j in range(num_instances):\n",
    "            if alpha=='c/sqrt(t)':\n",
    "                step_size=c/np.sqrt(i*j+1.0)\n",
    "            elif alpha=='c/t':\n",
    "                step_size=c/(i*j+1.0)\n",
    "            else:\n",
    "                step_size=alpha\n",
    "                \n",
    "          ##  theta_hist[i][j]=theta\n",
    "          ##  pred=np.dot(X[j],theta)\n",
    "          ##  f=np.dot(pred-y[j],pred-y[j])+lambda_reg*np.dot(theta,theta)\n",
    "          ##  loss_hist[i][j]=f+loss_hist[i][j-1]\n",
    "          ##  gradient=2*np.dot(pred-y[j],X[j])+2*lambda_reg*theta\n",
    "          ##  theta=theta-step_size*gradient\n",
    "            \n",
    "            theta_hist[i][j]=theta\n",
    "            loss_hist[i][j]=loss_hist[i][j-1]+stochastic_compute_regularized_square_loss(X[j], y[j], theta, lambda_reg)\n",
    "            gradient=stochastic_compute_regularized_square_loss_gradient(X[j], y[j], theta, lambda_reg)\n",
    "            theta=theta_hist[i][j]-step_size*gradient\n",
    "            \n",
    "            \n",
    "    return theta_hist, loss_hist            "
   ]
  },
  {
   "cell_type": "code",
   "execution_count": 207,
   "metadata": {},
   "outputs": [
    {
     "data": {
      "image/png": "[encoded data removed]",
      "text/plain": [
       "<Figure size 432x288 with 1 Axes>"
      ]
     },
     "metadata": {
      "needs_background": "light"
     },
     "output_type": "display_data"
    }
   ],
   "source": [
    "import matplotlib.pyplot as plt\n",
    "first_loss=stochastic_grad_descent(train_normalized, y_train, alpha=0.05, lambda_reg=10**-2, num_iter=1000,c=0.1)[1]\n",
    "first_loss=[first_loss[i][-1] for i in range(len(first_loss))]\n",
    "second_loss=stochastic_grad_descent(train_normalized, y_train, alpha=0.005, lambda_reg=10**-2, num_iter=1000,c=0.1)[1]\n",
    "second_loss=[second_loss[i][-1] for i in range(len(second_loss))]\n",
    "train_loss=[first_loss,second_loss]\n",
    "color_set=['b-','r-']\n",
    "step_set=[0.05,0.005]\n",
    "for i in range(2):\n",
    "    plt.plot(range(1000),np.log(train_loss[i]),color_set[i],label=step_set[i])\n",
    "    plt.legend(loc='best')\n",
    "    \n",
    "\n",
    "plt.ylabel('log(square loss)')\n",
    "plt.xlabel('Number of epochs')  \n",
    "plt.title(\"Iterations Vs Log(loss) Plot\")\n",
    "plt.show()  "
   ]
  },
  {
   "cell_type": "code",
   "execution_count": 211,
   "metadata": {},
   "outputs": [
    {
     "data": {
      "image/png": "[encoded data removed]",
      "text/plain": [
       "<Figure size 432x288 with 1 Axes>"
      ]
     },
     "metadata": {
      "needs_background": "light"
     },
     "output_type": "display_data"
    }
   ],
   "source": [
    "import matplotlib.pyplot as plt\n",
    "third_loss=stochastic_grad_descent(train_normalized, y_train, alpha='c/sqrt(t)', lambda_reg=10**-2, num_iter=1000,c=0.1)[1]\n",
    "third_loss=[third_loss[i][-1] for i in range(len(third_loss))]\n",
    "fourth_loss=stochastic_grad_descent(train_normalized, y_train, alpha='c/t', lambda_reg=10**-2, num_iter=1000,c=0.1)[1]\n",
    "fourth_loss=[fourth_loss[i][-1] for i in range(len(fourth_loss))]\n",
    "adj_train_loss=[third_loss,fourth_loss]\n",
    "color_set=['k-','y-']\n",
    "step_set=['c/sqrt(t)','c/t']\n",
    "for i in range(2):\n",
    "    plt.plot(range(1000),np.log(adj_train_loss[i]),color_set[i],label=step_set[i])\n",
    "    plt.legend(loc='best')\n",
    "    \n",
    "\n",
    "plt.ylabel('log(square loss)')\n",
    "plt.xlabel('Number of epochs')  \n",
    "plt.title(\"Iterations Vs Log(loss) Plot\")\n",
    "plt.show()  "
   ]
  }
 ],
 "metadata": {
  "kernelspec": {
   "display_name": "Python 3",
   "language": "python",
   "name": "python3"
  },
  "language_info": {
   "codemirror_mode": {
    "name": "ipython",
    "version": 3
   },
   "file_extension": ".py",
   "mimetype": "text/x-python",
   "name": "python",
   "nbconvert_exporter": "python",
   "pygments_lexer": "ipython3",
   "version": "3.7.3"
  }
 },
 "nbformat": 4,
 "nbformat_minor": 2
}
